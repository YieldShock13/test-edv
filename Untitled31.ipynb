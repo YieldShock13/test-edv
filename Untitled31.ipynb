{
  "nbformat": 4,
  "nbformat_minor": 0,
  "metadata": {
    "colab": {
      "provenance": [],
      "authorship_tag": "ABX9TyPHw0NuM+2q6JfAjoeX7Io2",
      "include_colab_link": true
    },
    "kernelspec": {
      "name": "python3",
      "display_name": "Python 3"
    },
    "language_info": {
      "name": "python"
    }
  },
  "cells": [
    {
      "cell_type": "markdown",
      "metadata": {
        "id": "view-in-github",
        "colab_type": "text"
      },
      "source": [
        "<a href=\"https://colab.research.google.com/github/YieldShock13/test-edv/blob/main/Untitled31.ipynb\" target=\"_parent\"><img src=\"https://colab.research.google.com/assets/colab-badge.svg\" alt=\"Open In Colab\"/></a>"
      ]
    },
    {
      "cell_type": "code",
      "execution_count": 14,
      "metadata": {
        "colab": {
          "base_uri": "https://localhost:8080/",
          "height": 214
        },
        "id": "ziwE_xc92Gle",
        "outputId": "c416bdf6-effa-466b-822e-4cf8debcfb43"
      },
      "outputs": [
        {
          "output_type": "display_data",
          "data": {
            "text/plain": [
              "<pandas.io.formats.style.Styler at 0x7fee1b1e2050>"
            ],
            "text/html": [
              "<style type=\"text/css\">\n",
              "#T_8913f caption {\n",
              "  font-size: 16px;\n",
              "  font-weight: bold;\n",
              "}\n",
              "</style>\n",
              "<table id=\"T_8913f\" class=\"dataframe\">\n",
              "  <caption>Gold-to-Oil Ratio Regression (Level Matching)</caption>\n",
              "  <thead>\n",
              "    <tr>\n",
              "      <th class=\"blank level0\" >&nbsp;</th>\n",
              "      <th id=\"T_8913f_level0_col0\" class=\"col_heading level0 col0\" >Metric</th>\n",
              "      <th id=\"T_8913f_level0_col1\" class=\"col_heading level0 col1\" >Value</th>\n",
              "    </tr>\n",
              "  </thead>\n",
              "  <tbody>\n",
              "    <tr>\n",
              "      <th id=\"T_8913f_level0_row0\" class=\"row_heading level0 row0\" >0</th>\n",
              "      <td id=\"T_8913f_row0_col0\" class=\"data row0 col0\" >R-squared</td>\n",
              "      <td id=\"T_8913f_row0_col1\" class=\"data row0 col1\" >0.285000</td>\n",
              "    </tr>\n",
              "    <tr>\n",
              "      <th id=\"T_8913f_level0_row1\" class=\"row_heading level0 row1\" >1</th>\n",
              "      <td id=\"T_8913f_row1_col0\" class=\"data row1 col0\" >Adj. R-squared</td>\n",
              "      <td id=\"T_8913f_row1_col1\" class=\"data row1 col1\" >0.283000</td>\n",
              "    </tr>\n",
              "    <tr>\n",
              "      <th id=\"T_8913f_level0_row2\" class=\"row_heading level0 row2\" >2</th>\n",
              "      <td id=\"T_8913f_row2_col0\" class=\"data row2 col0\" >F-statistic</td>\n",
              "      <td id=\"T_8913f_row2_col1\" class=\"data row2 col1\" >121.350000</td>\n",
              "    </tr>\n",
              "    <tr>\n",
              "      <th id=\"T_8913f_level0_row3\" class=\"row_heading level0 row3\" >3</th>\n",
              "      <td id=\"T_8913f_row3_col0\" class=\"data row3 col0\" >P-value (F-stat)</td>\n",
              "      <td id=\"T_8913f_row3_col1\" class=\"data row3 col1\" >5.70e-24</td>\n",
              "    </tr>\n",
              "  </tbody>\n",
              "</table>\n"
            ]
          },
          "metadata": {}
        }
      ],
      "source": [
        "# --- Setup ---\n",
        "import pandas as pd\n",
        "import numpy as np\n",
        "import statsmodels.api as sm\n",
        "import matplotlib.pyplot as plt\n",
        "\n",
        "# --- Load Data ---\n",
        "gold = pd.read_csv(\"XAU_USD Historical Data.csv\")\n",
        "oil = pd.read_csv(\"WTI_USD Historical Data.csv\")\n",
        "\n",
        "# --- Clean & Prepare ---\n",
        "for df in [gold, oil]:\n",
        "    df['Date'] = pd.to_datetime(df['Date'], format='%Y/%m/%d')\n",
        "    df['Price'] = df['Price'].astype(str).str.replace(',', '')\n",
        "    df['Price'] = pd.to_numeric(df['Price'], errors='coerce')\n",
        "\n",
        "gold = gold[['Date', 'Price']].rename(columns={'Price': 'Gold'})\n",
        "oil = oil[['Date', 'Price']].rename(columns={'Price': 'Oil'})\n",
        "\n",
        "# --- Merge & Compute Ratio ---\n",
        "df = pd.merge(gold, oil, on='Date', how='inner')\n",
        "df = df.sort_values('Date').reset_index(drop=True)\n",
        "df['Gold/Oil'] = df['Gold'] / df['Oil']\n",
        "df['t'] = range(len(df))  # Time index\n",
        "\n",
        "# --- Regression ---\n",
        "X = sm.add_constant(df['t'])\n",
        "y = df['Gold/Oil']\n",
        "model = sm.OLS(y, X).fit()\n",
        "\n",
        "# --- Summary Table ---\n",
        "summary_table = pd.DataFrame({\n",
        "    'Metric': ['R-squared', 'Adj. R-squared', 'F-statistic', 'P-value (F-stat)'],\n",
        "    'Value': [round(model.rsquared, 3),\n",
        "              round(model.rsquared_adj, 3),\n",
        "              round(model.fvalue, 2),\n",
        "              f\"{model.f_pvalue:.2e}\"]\n",
        "})\n",
        "\n",
        "import IPython.display as display\n",
        "display.display(summary_table.style.set_caption(\"Gold-to-Oil Ratio Regression (Level Matching)\").set_table_styles([\n",
        "    {'selector': 'caption', 'props': [('font-size', '16px'), ('font-weight', 'bold')]}\n",
        "]))\n",
        "\n",
        "\n",
        "\n",
        "\n"
      ]
    }
  ]
}